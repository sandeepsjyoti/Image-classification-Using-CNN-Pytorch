{
  "cells": [
    {
      "cell_type": "markdown",
      "metadata": {
        "id": "boP08E2vz4Jk"
      },
      "source": [
        "# Convolutional Neural Networks - Image Classification [using Pytorch]"
      ]
    },
    {
      "cell_type": "markdown",
      "metadata": {
        "id": "QsLIyKZez4Jl"
      },
      "source": [
        "### 1. INITIALIZATION"
      ]
    },
    {
      "cell_type": "code",
      "execution_count": 1,
      "metadata": {
        "id": "ybjVTzn_z4Jm"
      },
      "outputs": [],
      "source": [
        "# Import necessary libraries and modules\n",
        "import matplotlib.pyplot as plt\n",
        "import torch\n",
        "import torchvision\n",
        "import torchvision.transforms as transforms\n",
        "import torch.nn as nn\n",
        "import torch.nn.functional as F\n",
        "from sklearn.metrics import accuracy_score, f1_score, precision_score, recall_score"
      ]
    },
    {
      "cell_type": "code",
      "execution_count": 2,
      "metadata": {
        "colab": {
          "base_uri": "https://localhost:8080/",
          "height": 35
        },
        "id": "58ddwZJQz4Jm",
        "outputId": "301fab23-1c9a-4f87-9a0f-2fe736527055"
      },
      "outputs": [
        {
          "output_type": "execute_result",
          "data": {
            "text/plain": [
              "'2.3.1+cu121'"
            ],
            "application/vnd.google.colaboratory.intrinsic+json": {
              "type": "string"
            }
          },
          "metadata": {},
          "execution_count": 2
        }
      ],
      "source": [
        "# Check tensorflow version\n",
        "torch.__version__"
      ]
    },
    {
      "cell_type": "markdown",
      "metadata": {
        "id": "uO0WArjYz4Jn"
      },
      "source": [
        "### 2. LOADING & TRANSFORMING DATASET"
      ]
    },
    {
      "cell_type": "markdown",
      "metadata": {
        "id": "t6D_PtM1z4Jn"
      },
      "source": [
        "The dataset used is [CIFAR-10](https://www.cs.toronto.edu/~kriz/cifar.html), which is a widely used benchmark dataset in the field of computer vision and machine learning.\n",
        "\n",
        "It consists of 60,000 32x32 color images in 10 classes, with 6,000 images per class. It serves as a standard dataset for training and evaluating machine learning algorithms, particularly for image classification tasks.\n",
        "\n",
        "The classes are: airplane, automobile, bird, cat, deer, dog, frog, horse, ship, and truck."
      ]
    },
    {
      "cell_type": "markdown",
      "metadata": {
        "id": "uEnUWo8Pz4Jn"
      },
      "source": [
        "Before loading the dataset, we need to initialize data augmentation and image transformations to avoid overfitting. This helps to increase the diversity of the dataset and improve the generalization ability of the CNN model.\n",
        "\n",
        "Transformations of training images are:\n",
        "\n",
        "- Randomly rotate images\n",
        "- Randomly flip images horizontally\n",
        "- Randomly changing the brightness, contrast, saturation, and hue of the image (color jitter)\n",
        "- Scale the pixel values of the images to be in the range [0, 1] (automatically done when converting to tensor)"
      ]
    },
    {
      "cell_type": "code",
      "execution_count": 3,
      "metadata": {
        "id": "5xWHvQ5Lz4Jn"
      },
      "outputs": [],
      "source": [
        "# Creating transformer for training data as a series of steps\n",
        "transform_train = transforms.Compose([\n",
        "    transforms.RandomRotation(10),\n",
        "    transforms.RandomHorizontalFlip(),\n",
        "    transforms.ColorJitter(brightness=0.2, contrast=0.2, saturation=0.2, hue=0.1),\n",
        "    transforms.ToTensor(),\n",
        "    transforms.Normalize((0.5, 0.5, 0.5), (0.5, 0.5, 0.5))\n",
        "])"
      ]
    },
    {
      "cell_type": "code",
      "execution_count": 4,
      "metadata": {
        "id": "kPw10pWWz4Jo"
      },
      "outputs": [],
      "source": [
        "# Creating transformer for testing data as a series of steps - without augmentation\n",
        "transform_test = transforms.Compose([\n",
        "    transforms.ToTensor(),\n",
        "    transforms.Normalize((0.5, 0.5, 0.5), (0.5, 0.5, 0.5))\n",
        "])"
      ]
    },
    {
      "cell_type": "markdown",
      "metadata": {
        "id": "v9FFFx84z4Jo"
      },
      "source": [
        "By separating the transformation pipelines for training and testing, we ensure that the model is trained with data augmentations that help it generalize better, while the test data remains consistent and unmodified to accurately evaluate the model's performance."
      ]
    },
    {
      "cell_type": "code",
      "execution_count": 5,
      "metadata": {
        "colab": {
          "base_uri": "https://localhost:8080/"
        },
        "id": "p8VQBEzVz4Jo",
        "outputId": "163d8f78-7a0f-43d6-8e61-eba2e43a5d30"
      },
      "outputs": [
        {
          "output_type": "stream",
          "name": "stdout",
          "text": [
            "Downloading https://www.cs.toronto.edu/~kriz/cifar-10-python.tar.gz to ./data/raw/cifar-10-python.tar.gz\n"
          ]
        },
        {
          "output_type": "stream",
          "name": "stderr",
          "text": [
            "100%|██████████| 170498071/170498071 [00:05<00:00, 30007598.45it/s]\n"
          ]
        },
        {
          "output_type": "stream",
          "name": "stdout",
          "text": [
            "Extracting ./data/raw/cifar-10-python.tar.gz to ./data/raw\n",
            "Files already downloaded and verified\n"
          ]
        }
      ],
      "source": [
        "# Loading the dataset from pytorch library\n",
        "data_train = torchvision.datasets.CIFAR10(root=\"./data/raw\", train=True, download=True, transform=transform_train)\n",
        "data_test = torchvision.datasets.CIFAR10(root=\"./data/raw\", train=False, download=True, transform=transform_test)"
      ]
    },
    {
      "cell_type": "code",
      "execution_count": 6,
      "metadata": {
        "id": "N1Ma5_CYz4Jo"
      },
      "outputs": [],
      "source": [
        "# Initialize data loaders\n",
        "train_loader = torch.utils.data.DataLoader(data_train, batch_size=32, shuffle=True)\n",
        "test_loader = torch.utils.data.DataLoader(data_test, batch_size=32, shuffle=False)"
      ]
    },
    {
      "cell_type": "markdown",
      "metadata": {
        "id": "u5GxIpVzz4Jo"
      },
      "source": [
        "### 3. BUILDING CNN MODEL"
      ]
    },
    {
      "cell_type": "code",
      "execution_count": 7,
      "metadata": {
        "id": "J3GiI52Rz4Jo"
      },
      "outputs": [],
      "source": [
        "class CNN(nn.Module):\n",
        "    def __init__(self):\n",
        "\n",
        "        super(CNN, self).__init__()\n",
        "\n",
        "        # Define the convolutional layers\n",
        "        self.conv1 = nn.Conv2d(in_channels=3, out_channels=32, kernel_size=3, stride=1, padding=1)\n",
        "        self.conv2 = nn.Conv2d(in_channels=32, out_channels=64, kernel_size=3, stride=1, padding=1)\n",
        "\n",
        "        # Define the pooling layers\n",
        "        self.pool = nn.MaxPool2d(kernel_size=2, stride=2, padding=0)\n",
        "\n",
        "        # Define the fully connected layers\n",
        "        self.fc1 = nn.Linear(64 * 8 * 8, 128)  # 8 * 8 * 64 is the flattened dimension after pooling\n",
        "        self.fc2 = nn.Linear(128, 64)\n",
        "        self.fc3 = nn.Linear(64, 10)  # 10 output units for 10 classes\n",
        "\n",
        "    def forward(self, x):\n",
        "\n",
        "        # Apply convolutional layers with ReLU activation and pooling\n",
        "        x = self.pool(F.relu(self.conv1(x)))\n",
        "        x = self.pool(F.relu(self.conv2(x)))\n",
        "\n",
        "        # Flatten the output from the convolutional layers\n",
        "        x = x.view(-1, 64 * 8 * 8)\n",
        "\n",
        "        # Apply fully connected layers with ReLU activation\n",
        "        x = F.relu(self.fc1(x))\n",
        "        x = F.relu(self.fc2(x))\n",
        "\n",
        "        # Apply the output layer with softmax activation\n",
        "        x = self.fc3(x)\n",
        "        return F.log_softmax(x, dim=1)"
      ]
    },
    {
      "cell_type": "code",
      "execution_count": 8,
      "metadata": {
        "id": "Zp3Tr1Esz4Jp"
      },
      "outputs": [],
      "source": [
        "# Initialize the model\n",
        "cnn = CNN()\n",
        "\n",
        "# Define the loss function (cross-entropy loss)\n",
        "criterion = nn.CrossEntropyLoss()\n",
        "\n",
        "# Define the optimizer (Adam optimizer)\n",
        "optimizer = torch.optim.Adam(cnn.parameters(), lr=0.001)"
      ]
    },
    {
      "cell_type": "markdown",
      "metadata": {
        "id": "D0M73kx2z4Jp"
      },
      "source": [
        "### 4. TRAINING CNN MODEL"
      ]
    },
    {
      "cell_type": "code",
      "execution_count": 9,
      "metadata": {
        "id": "3bbN4-HZz4Jp"
      },
      "outputs": [],
      "source": [
        "# Initialize metrics function\n",
        "def compute_metrics(outputs, labels):\n",
        "     # Convert model outputs to predicted labels\n",
        "    _, preds = torch.max(outputs, 1)\n",
        "\n",
        "    # Convert labels and predictions to numpy arrays\n",
        "    labels = labels.cpu().numpy()\n",
        "    preds = preds.cpu().numpy()\n",
        "\n",
        "    # Calculate accuracy, F1-score, precision, and recall\n",
        "    accuracy = accuracy_score(labels, preds)\n",
        "    f1 = f1_score(labels, preds, average='weighted')\n",
        "    precision = precision_score(labels, preds, average='weighted', zero_division=1)\n",
        "    recall = recall_score(labels, preds, average='weighted', zero_division=1)\n",
        "\n",
        "    return accuracy, f1, precision, recall"
      ]
    },
    {
      "cell_type": "code",
      "execution_count": 10,
      "metadata": {
        "colab": {
          "base_uri": "https://localhost:8080/"
        },
        "id": "JXfyHuWGz4Jp",
        "outputId": "7dcdcd24-dc4a-479f-a9ba-29a47ab5d4ce"
      },
      "outputs": [
        {
          "output_type": "stream",
          "name": "stdout",
          "text": [
            "Epoch [1/25], accuracy: 0.4637 - f1_score: 0.4484 - loss: 1.4709 - precision: 0.5974 - recall: 0.4637 - val_accuracy: 0.6051 - val_f1_score: 0.5960 - val_loss: 1.1105 - val_precision: 0.6873 - val_recall: 0.6051\n",
            "Epoch [2/25], accuracy: 0.6109 - f1_score: 0.6058 - loss: 1.0967 - precision: 0.6962 - recall: 0.6109 - val_accuracy: 0.6662 - val_f1_score: 0.6608 - val_loss: 0.9599 - val_precision: 0.7430 - val_recall: 0.6662\n",
            "Epoch [3/25], accuracy: 0.6580 - f1_score: 0.6541 - loss: 0.9707 - precision: 0.7338 - recall: 0.6580 - val_accuracy: 0.6872 - val_f1_score: 0.6858 - val_loss: 0.9096 - val_precision: 0.7578 - val_recall: 0.6872\n",
            "Epoch [4/25], accuracy: 0.6846 - f1_score: 0.6815 - loss: 0.8977 - precision: 0.7559 - recall: 0.6846 - val_accuracy: 0.7050 - val_f1_score: 0.7000 - val_loss: 0.8525 - val_precision: 0.7681 - val_recall: 0.7050\n",
            "Epoch [5/25], accuracy: 0.7048 - f1_score: 0.7024 - loss: 0.8418 - precision: 0.7738 - recall: 0.7048 - val_accuracy: 0.7255 - val_f1_score: 0.7209 - val_loss: 0.7970 - val_precision: 0.7819 - val_recall: 0.7255\n",
            "Epoch [6/25], accuracy: 0.7197 - f1_score: 0.7174 - loss: 0.7945 - precision: 0.7875 - recall: 0.7197 - val_accuracy: 0.7261 - val_f1_score: 0.7192 - val_loss: 0.8002 - val_precision: 0.7863 - val_recall: 0.7261\n",
            "Epoch [7/25], accuracy: 0.7334 - f1_score: 0.7315 - loss: 0.7589 - precision: 0.7974 - recall: 0.7334 - val_accuracy: 0.7378 - val_f1_score: 0.7367 - val_loss: 0.7654 - val_precision: 0.7948 - val_recall: 0.7378\n",
            "Epoch [8/25], accuracy: 0.7429 - f1_score: 0.7410 - loss: 0.7315 - precision: 0.8034 - recall: 0.7429 - val_accuracy: 0.7402 - val_f1_score: 0.7380 - val_loss: 0.7765 - val_precision: 0.8035 - val_recall: 0.7402\n",
            "Epoch [9/25], accuracy: 0.7526 - f1_score: 0.7502 - loss: 0.7084 - precision: 0.8121 - recall: 0.7526 - val_accuracy: 0.7501 - val_f1_score: 0.7459 - val_loss: 0.7537 - val_precision: 0.8054 - val_recall: 0.7501\n",
            "Epoch [10/25], accuracy: 0.7584 - f1_score: 0.7569 - loss: 0.6855 - precision: 0.8184 - recall: 0.7584 - val_accuracy: 0.7469 - val_f1_score: 0.7418 - val_loss: 0.7647 - val_precision: 0.7991 - val_recall: 0.7469\n",
            "Epoch [11/25], accuracy: 0.7631 - f1_score: 0.7617 - loss: 0.6701 - precision: 0.8228 - recall: 0.7631 - val_accuracy: 0.7517 - val_f1_score: 0.7532 - val_loss: 0.7407 - val_precision: 0.8177 - val_recall: 0.7517\n",
            "Epoch [12/25], accuracy: 0.7723 - f1_score: 0.7715 - loss: 0.6483 - precision: 0.8292 - recall: 0.7723 - val_accuracy: 0.7533 - val_f1_score: 0.7515 - val_loss: 0.7402 - val_precision: 0.8096 - val_recall: 0.7533\n",
            "Epoch [13/25], accuracy: 0.7782 - f1_score: 0.7777 - loss: 0.6311 - precision: 0.8333 - recall: 0.7782 - val_accuracy: 0.7482 - val_f1_score: 0.7428 - val_loss: 0.7653 - val_precision: 0.8024 - val_recall: 0.7482\n",
            "Epoch [14/25], accuracy: 0.7812 - f1_score: 0.7802 - loss: 0.6209 - precision: 0.8371 - recall: 0.7812 - val_accuracy: 0.7512 - val_f1_score: 0.7457 - val_loss: 0.7463 - val_precision: 0.8053 - val_recall: 0.7512\n",
            "Epoch [15/25], accuracy: 0.7857 - f1_score: 0.7841 - loss: 0.6100 - precision: 0.8382 - recall: 0.7857 - val_accuracy: 0.7647 - val_f1_score: 0.7611 - val_loss: 0.7247 - val_precision: 0.8199 - val_recall: 0.7647\n",
            "Epoch [16/25], accuracy: 0.7881 - f1_score: 0.7869 - loss: 0.6000 - precision: 0.8413 - recall: 0.7881 - val_accuracy: 0.7578 - val_f1_score: 0.7556 - val_loss: 0.7428 - val_precision: 0.8119 - val_recall: 0.7578\n",
            "Epoch [17/25], accuracy: 0.7944 - f1_score: 0.7931 - loss: 0.5839 - precision: 0.8465 - recall: 0.7944 - val_accuracy: 0.7626 - val_f1_score: 0.7611 - val_loss: 0.7330 - val_precision: 0.8156 - val_recall: 0.7626\n",
            "Epoch [18/25], accuracy: 0.7976 - f1_score: 0.7970 - loss: 0.5753 - precision: 0.8498 - recall: 0.7976 - val_accuracy: 0.7613 - val_f1_score: 0.7603 - val_loss: 0.7482 - val_precision: 0.8156 - val_recall: 0.7613\n",
            "Epoch [19/25], accuracy: 0.8013 - f1_score: 0.8003 - loss: 0.5667 - precision: 0.8520 - recall: 0.8013 - val_accuracy: 0.7596 - val_f1_score: 0.7600 - val_loss: 0.7289 - val_precision: 0.8150 - val_recall: 0.7596\n",
            "Epoch [20/25], accuracy: 0.8031 - f1_score: 0.8018 - loss: 0.5608 - precision: 0.8532 - recall: 0.8031 - val_accuracy: 0.7624 - val_f1_score: 0.7597 - val_loss: 0.7270 - val_precision: 0.8151 - val_recall: 0.7624\n",
            "Epoch [21/25], accuracy: 0.8055 - f1_score: 0.8046 - loss: 0.5521 - precision: 0.8548 - recall: 0.8055 - val_accuracy: 0.7725 - val_f1_score: 0.7708 - val_loss: 0.7136 - val_precision: 0.8249 - val_recall: 0.7725\n",
            "Epoch [22/25], accuracy: 0.8115 - f1_score: 0.8107 - loss: 0.5380 - precision: 0.8598 - recall: 0.8115 - val_accuracy: 0.7613 - val_f1_score: 0.7618 - val_loss: 0.7303 - val_precision: 0.8185 - val_recall: 0.7613\n",
            "Epoch [23/25], accuracy: 0.8112 - f1_score: 0.8106 - loss: 0.5378 - precision: 0.8596 - recall: 0.8112 - val_accuracy: 0.7599 - val_f1_score: 0.7555 - val_loss: 0.7544 - val_precision: 0.8151 - val_recall: 0.7599\n",
            "Epoch [24/25], accuracy: 0.8152 - f1_score: 0.8146 - loss: 0.5254 - precision: 0.8625 - recall: 0.8152 - val_accuracy: 0.7603 - val_f1_score: 0.7593 - val_loss: 0.7486 - val_precision: 0.8171 - val_recall: 0.7603\n",
            "Epoch [25/25], accuracy: 0.8172 - f1_score: 0.8164 - loss: 0.5204 - precision: 0.8645 - recall: 0.8172 - val_accuracy: 0.7646 - val_f1_score: 0.7613 - val_loss: 0.7425 - val_precision: 0.8182 - val_recall: 0.7646\n"
          ]
        }
      ],
      "source": [
        "# Number of epochs to train the model\n",
        "num_epochs = 25\n",
        "\n",
        "# Check if GPU is available\n",
        "device = torch.device(\"cuda\" if torch.cuda.is_available() else \"cpu\")\n",
        "\n",
        "# Move your model to the GPU\n",
        "cnn.to(device)\n",
        "\n",
        "# Set model to training mode\n",
        "cnn.train()\n",
        "\n",
        "# Lists to store training and validation metrics\n",
        "train_accuracies = []\n",
        "val_accuracies = []\n",
        "\n",
        "# Training loop\n",
        "for epoch in range(num_epochs):\n",
        "\n",
        "    running_loss = 0.0\n",
        "    running_accuracy = 0.0\n",
        "    running_f1 = 0.0\n",
        "    running_precision = 0.0\n",
        "    running_recall = 0.0\n",
        "    for i, (inputs, labels) in enumerate(train_loader):\n",
        "\n",
        "         # Move inputs and labels to the GPU\n",
        "        inputs, labels = inputs.to(device), labels.to(device)\n",
        "\n",
        "        # Initialize parameter gradients\n",
        "        optimizer.zero_grad()\n",
        "\n",
        "        # Forward pass: compute model output\n",
        "        outputs = cnn(inputs)\n",
        "\n",
        "        # Compute loss\n",
        "        loss = criterion(outputs, labels)\n",
        "\n",
        "        # Backward pass: compute gradients\n",
        "        loss.backward()\n",
        "\n",
        "        # Update model parameters\n",
        "        optimizer.step()\n",
        "\n",
        "        # Accumulate loss\n",
        "        running_loss += loss.item()\n",
        "\n",
        "        # Calculate metrics\n",
        "        accuracy, f1, precision, recall = compute_metrics(outputs, labels)\n",
        "        running_accuracy += accuracy\n",
        "        running_f1 += f1\n",
        "        running_precision += precision\n",
        "        running_recall += recall\n",
        "\n",
        "    # Calculate average metrics for each epoch\n",
        "    avg_loss = running_loss / len(train_loader)\n",
        "    avg_accuracy = running_accuracy / len(train_loader)\n",
        "    avg_f1 = running_f1 / len(train_loader)\n",
        "    avg_precision = running_precision / len(train_loader)\n",
        "    avg_recall = running_recall / len(train_loader)\n",
        "\n",
        "    # Store training accuracy\n",
        "    train_accuracies.append(avg_accuracy)\n",
        "\n",
        "   # Set model to evaluation mode\n",
        "    cnn.eval()\n",
        "\n",
        "    # Initialize evaluation metrics\n",
        "    eval_loss = 0.0\n",
        "    eval_accuracy = 0.0\n",
        "    eval_f1 = 0.0\n",
        "    eval_precision = 0.0\n",
        "    eval_recall = 0.0\n",
        "\n",
        "    # Disable gradient computation for evaluation\n",
        "    with torch.no_grad():\n",
        "        for inputs, labels in test_loader:\n",
        "\n",
        "            # Move inputs and labels to the GPU\n",
        "            inputs, labels = inputs.to(device), labels.to(device)\n",
        "\n",
        "            # Forward pass: compute model output\n",
        "            outputs = cnn(inputs)\n",
        "\n",
        "            # Compute loss\n",
        "            loss = criterion(outputs, labels)\n",
        "\n",
        "            # Accumulate evaluation loss\n",
        "            eval_loss += loss.item()\n",
        "\n",
        "            # Calculate metrics\n",
        "            accuracy, f1, precision, recall = compute_metrics(outputs, labels)\n",
        "            eval_accuracy += accuracy\n",
        "            eval_f1 += f1\n",
        "            eval_precision += precision\n",
        "            eval_recall += recall\n",
        "\n",
        "    # Calculate average metrics for the evaluation set for each epoch\n",
        "    avg_eval_loss = eval_loss / len(test_loader)\n",
        "    avg_eval_accuracy = eval_accuracy / len(test_loader)\n",
        "    avg_eval_f1 = eval_f1 / len(test_loader)\n",
        "    avg_eval_precision = eval_precision / len(test_loader)\n",
        "    avg_eval_recall = eval_recall / len(test_loader)\n",
        "\n",
        "    # Store validation accuracy\n",
        "    val_accuracies.append(avg_eval_accuracy)\n",
        "\n",
        "    # Print average metrics for the epoch\n",
        "    print(f'Epoch [{epoch+1}/{num_epochs}], '\n",
        "          f'accuracy: {avg_accuracy:.4f} - f1_score: {avg_f1:.4f} - loss: {avg_loss:.4f} - '\n",
        "          f'precision: {avg_precision:.4f} - recall: {avg_recall:.4f} - '\n",
        "          f'val_accuracy: {avg_eval_accuracy:.4f} - val_f1_score: {avg_eval_f1:.4f} - val_loss: {avg_eval_loss:.4f} - '\n",
        "          f'val_precision: {avg_eval_precision:.4f} - val_recall: {avg_eval_recall:.4f}')\n",
        "\n",
        "    # Set model back to training mode\n",
        "    cnn.train()\n"
      ]
    },
    {
      "cell_type": "code",
      "execution_count": 11,
      "metadata": {
        "colab": {
          "base_uri": "https://localhost:8080/"
        },
        "id": "sPi4Uhbxz4Jp",
        "outputId": "d34e74cf-727d-4008-8861-6cfc45648cb3"
      },
      "outputs": [
        {
          "output_type": "stream",
          "name": "stdout",
          "text": [
            "----------------------------------------------------------------\n",
            "        Layer (type)               Output Shape         Param #\n",
            "================================================================\n",
            "            Conv2d-1         [-1, 32, 128, 128]             896\n",
            "         MaxPool2d-2           [-1, 32, 64, 64]               0\n",
            "            Conv2d-3           [-1, 64, 64, 64]          18,496\n",
            "         MaxPool2d-4           [-1, 64, 32, 32]               0\n",
            "            Linear-5                  [-1, 128]         524,416\n",
            "            Linear-6                   [-1, 64]           8,256\n",
            "            Linear-7                   [-1, 10]             650\n",
            "================================================================\n",
            "Total params: 552,714\n",
            "Trainable params: 552,714\n",
            "Non-trainable params: 0\n",
            "----------------------------------------------------------------\n",
            "Input size (MB): 0.19\n",
            "Forward/backward pass size (MB): 7.50\n",
            "Params size (MB): 2.11\n",
            "Estimated Total Size (MB): 9.80\n",
            "----------------------------------------------------------------\n"
          ]
        }
      ],
      "source": [
        "from torchsummary import summary\n",
        "\n",
        "summary(cnn, (3, 128, 128))"
      ]
    },
    {
      "cell_type": "markdown",
      "metadata": {
        "id": "Lu6QLsKKz4Jp"
      },
      "source": [
        "### 5. PERFORMANCE ANALYSIS\n"
      ]
    },
    {
      "cell_type": "code",
      "execution_count": 12,
      "metadata": {
        "colab": {
          "base_uri": "https://localhost:8080/",
          "height": 472
        },
        "id": "vaDWp-VPz4Jq",
        "outputId": "8798351d-d308-4218-9985-fd3af66bc68d"
      },
      "outputs": [
        {
          "output_type": "display_data",
          "data": {
            "text/plain": [
              "<Figure size 640x480 with 1 Axes>"
            ],
            "image/png": "[encoded data removed]"
          },
          "metadata": {}
        }
      ],
      "source": [
        "# Plot training & validation accuracy values\n",
        "plt.plot(train_accuracies)\n",
        "plt.plot(val_accuracies)\n",
        "plt.title('Model accuracy')\n",
        "plt.ylabel('Accuracy')\n",
        "plt.xlabel('Epoch')\n",
        "plt.legend(['Train', 'Validation'], loc='upper left')\n",
        "plt.show()"
      ]
    },
    {
      "cell_type": "markdown",
      "metadata": {
        "id": "rfIiaHIwz4Jq"
      },
      "source": [
        "The results highlights the following points:\n",
        "- The training accuracy steadily increases as the number of epochs increases. This indicates that the model is learning and improving its performance on the training data.\n",
        "- The validation accuracy initially increases as the model learns more representations from the training data.\n",
        "- However, after reaching a peak around the 9th epoch, the validation accuracy starts to fluctuate. This might indicate that the model is beginning to overfit, as it fails to generalize well to unseen data.\n",
        "- The gap between training and validation accuracy starts to widen after a certain point, indicating increasing overfitting as training progresses."
      ]
    },
    {
      "cell_type": "code",
      "execution_count": null,
      "metadata": {
        "id": "uFoq9wCyz4Jq"
      },
      "outputs": [],
      "source": [
        "#way to reduce overfitting\n",
        "\n",
        "#add more data\n",
        "#data Augmentation\n",
        "#L1/L2 Regularizer\n",
        "#Drop out\n",
        "#Batch norm\n",
        "#Reduce complexity"
      ]
    }
  ],
  "metadata": {
    "kernelspec": {
      "display_name": "Python 3",
      "name": "python3"
    },
    "language_info": {
      "codemirror_mode": {
        "name": "ipython",
        "version": 3
      },
      "file_extension": ".py",
      "mimetype": "text/x-python",
      "name": "python",
      "nbconvert_exporter": "python",
      "pygments_lexer": "ipython3",
      "version": "3.11.7"
    },
    "colab": {
      "provenance": [],
      "gpuType": "T4"
    },
    "accelerator": "GPU"
  },
  "nbformat": 4,
  "nbformat_minor": 0
}